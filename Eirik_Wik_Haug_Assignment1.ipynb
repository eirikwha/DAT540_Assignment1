{
 "cells": [
  {
   "cell_type": "markdown",
   "metadata": {},
   "source": [
    "# Assignment 1 - Basic Python\n",
    "Name: Eirik Wik Haug"
   ]
  },
  {
   "cell_type": "markdown",
   "metadata": {},
   "source": [
    "------------------\n",
    "# Problem 1\n",
    "\n",
    "A simple implementation of rock/paper/scissor game. The function \n",
    "takes in two strings and compares them to find a winner. It raises an\n",
    "error and calls the help() function if the wrong input is given."
   ]
  },
  {
   "cell_type": "code",
   "execution_count": 57,
   "metadata": {},
   "outputs": [],
   "source": [
    "def RoPaSc(player_1_hand, player_2_hand):\n",
    "    \"\"\"Takes two strings as input and prints the winner. Accepted input: rock / paper / scissor\"\"\"\n",
    "    \n",
    "    if (player_1_hand == \"rock\" or player_1_hand == \"paper\" or \\\n",
    "        player_1_hand == \"scissor\") and (player_2_hand == \"rock\"\\\n",
    "        or player_2_hand == \"paper\" or player_2_hand == \"scissor\"): \n",
    "            \n",
    "        if player_1_hand == player_2_hand:\n",
    "            print(\"Tie! Try again.\")\n",
    "        elif player_1_hand == \"rock\":\n",
    "            if player_2_hand == \"paper\":\n",
    "                print(\"Player 2: wins\")\n",
    "            else:\n",
    "                print(\"Player 1: wins\")\n",
    "        elif player_1_hand == \"paper\":\n",
    "            if player_2_hand == \"scissor\":\n",
    "                print(\"Player 2: wins\")\n",
    "            else:\n",
    "                print(\"Player 1: wins\")\n",
    "        elif player_1_hand == \"scissor\":\n",
    "            if player_2_hand == \"rock\":\n",
    "                print(\"Player 2: wins\")\n",
    "            else:\n",
    "                print(\"Player 1: wins\")\n",
    "    else:\n",
    "        print (\"Wrong input, try again.\\n\")\n",
    "        help(RoPaSc)"
   ]
  },
  {
   "cell_type": "markdown",
   "metadata": {},
   "source": [
    "### Try the game"
   ]
  },
  {
   "cell_type": "code",
   "execution_count": 58,
   "metadata": {},
   "outputs": [
    {
     "name": "stdout",
     "output_type": "stream",
     "text": [
      "Player 1 hand: rock\n",
      "Player 2 hand: scissor\n",
      "Player 1: wins\n"
     ]
    }
   ],
   "source": [
    "a = input(\"Player 1 hand: \")\n",
    "b = input(\"Player 2 hand: \")\n",
    "RoPaSc(a,b)"
   ]
  },
  {
   "cell_type": "markdown",
   "metadata": {},
   "source": [
    "--------------------\n",
    "# Exercise 1.2"
   ]
  },
  {
   "cell_type": "code",
   "execution_count": 59,
   "metadata": {},
   "outputs": [],
   "source": [
    "from string import ascii_letters\n",
    "\n",
    "def cipher(txt, k):\n",
    "    \"\"\"Takes a string (txt) and translates every ASCII letter in it by k (int) steps\"\"\"\n",
    "    n = ''\n",
    "    for i in txt:\n",
    "        if (i in ascii_letters):\n",
    "            n = n+ascii_letters[(ascii_letters.index(i)+k)%len(ascii_letters)]\n",
    "        else:\n",
    "            n += i\n",
    "    return n\n",
    "\n",
    "def decipher(txt, k):\n",
    "    \"\"\"This function simply reverses the cipher function.\"\"\"\n",
    "    n = ''\n",
    "    for i in txt:\n",
    "        if (i in ascii_letters):\n",
    "            n = n+ascii_letters[(ascii_letters.index(i)-k)%len(ascii_letters)]\n",
    "        else:\n",
    "            n += i\n",
    "    return n"
   ]
  },
  {
   "cell_type": "markdown",
   "metadata": {},
   "source": [
    "### Cipher and write to file"
   ]
  },
  {
   "cell_type": "code",
   "execution_count": 60,
   "metadata": {
    "scrolled": true
   },
   "outputs": [
    {
     "name": "stdout",
     "output_type": "stream",
     "text": [
      "ZkB lv DL dwwudfwlqj vr pxfk dwwhqwlrq?\n",
      "DL lv wkh qhz hohfwulflwB. Lw zloo wudqvirup hyhuB lqgxvwuB dqg fuhdwh kxjh hfrqrplf ydoxh. \n",
      "WhfkqrorjB olnh vxshuylvhg ohduqlqj lv dxwrpdwlrq rq vwhurlgv. \n",
      "Lw lv yhuB jrrg dw dxwrpdwlqj wdvnv dqg zloo kdyh dq lpsdfw rq hyhuB vhfwru iurp khdowkfduh wr pdqxidfwxulqj, orjlvwlfv dqg uhwdlo.\n"
     ]
    }
   ],
   "source": [
    "f = open('plain.txt','r').read()\n",
    "birthyear = 1993\n",
    "k = birthyear % 10\n",
    "\n",
    "newfile = open(\"cipher.txt\" ,'w').write(cipher(f,k))\n",
    "\n",
    "print(cipher(f,k))"
   ]
  },
  {
   "cell_type": "markdown",
   "metadata": {},
   "source": [
    "### Bonus: Decipher"
   ]
  },
  {
   "cell_type": "code",
   "execution_count": 61,
   "metadata": {},
   "outputs": [
    {
     "name": "stdout",
     "output_type": "stream",
     "text": [
      "Why is AI attracting so much attention?\n",
      "AI is the new electricity. It will transform every industry and create huge economic value. \n",
      "Technology like supervised learning is automation on steroids. \n",
      "It is very good at automating tasks and will have an impact on every sector from healthcare to manufacturing, logistics and retail.\n"
     ]
    }
   ],
   "source": [
    "print(decipher(open(\"cipher.txt\",'r').read(),k))"
   ]
  },
  {
   "cell_type": "markdown",
   "metadata": {},
   "source": [
    "--------------------\n",
    "# Exercise 1.3\n",
    "\n",
    "I treat all possible lines as 1D arrays, i.e. [1,1,1], and the 2D array as a collection of multiple 1D arrays.\n",
    "To check for number of consecutive numbers in each array, a for loop is iterating through each element and checking its value. If the value is correct, a counter is incremented each time a consecutive correct value occurs. If an uncorrect value occurs, the counter is reset to zero. \n",
    "\n",
    "#### For the vertical arrays/lines, i simply use numpy.transpose() to transpose the array, and run the same function as described above.\n",
    "\n",
    "#### For diagonals, a function is made to slice all forward and backward diagonal patterns into new arrays. Then the consecutive_vals() is used to check.\n",
    "\n",
    "This method will work for 2D ndarrays of any size and is not limited to n-by-n matrices"
   ]
  },
  {
   "cell_type": "code",
   "execution_count": 68,
   "metadata": {},
   "outputs": [],
   "source": [
    "import numpy as np\n",
    "\n",
    "def consecutive_vals(arr, num):\n",
    "    \"\"\"Takes a numpy array and checks each row for \n",
    "    consecutive occurences of a selected value num\"\"\"\n",
    "    \n",
    "    record = 0\n",
    "    counter = 0\n",
    "    for i in arr:\n",
    "        for j in i:\n",
    "            if j == num:\n",
    "                counter += 1\n",
    "                record = max(record,counter)\n",
    "            else:\n",
    "                counter = 0\n",
    "        counter = 0\n",
    "    return record\n",
    "\n",
    "def transf_all_diags(arr):\n",
    "    \"\"\"Takes an array and converts all possible diagonals \n",
    "    (forward and backward) and converts them into a \n",
    "    list of respective arrays\"\"\"\n",
    "    \n",
    "    diags = [arr[::-1,:].diagonal(i) for i in range(-arr.shape[0]+1,arr.shape[1])] \n",
    "    diags.extend((a.diagonal(i) for i in range(a.shape[1]-1,-a.shape[0],-1)))\n",
    "    return diags"
   ]
  },
  {
   "cell_type": "markdown",
   "metadata": {},
   "source": [
    "#### This short snippet creates a 2D-array of 5x5 with random integers from 0 to 1, and finds the longest pattern of ones by using the functions above:"
   ]
  },
  {
   "cell_type": "code",
   "execution_count": 69,
   "metadata": {},
   "outputs": [
    {
     "name": "stdout",
     "output_type": "stream",
     "text": [
      "Test array: \n",
      "----------\n",
      " [[1 0 0 0 1]\n",
      " [1 0 1 1 0]\n",
      " [1 1 1 0 1]\n",
      " [1 0 1 1 0]\n",
      " [1 0 1 0 1]] \n",
      "----------\n",
      "Longest pattern of  1 -s:  5 \n",
      "\n"
     ]
    }
   ],
   "source": [
    "n = 1\n",
    "\n",
    "a = np.random.randint(2, size= (5,5))\n",
    "print(\"Test array: \\n----------\\n\", a, \"\\n----------\")\n",
    "\n",
    "diags = transf_all_diags(a)\n",
    "print(\"Longest pattern of \", n, \"-s: \" , max(consecutive_vals(diags,n),\\\n",
    "         consecutive_vals(a,n),consecutive_vals(a.transpose(),n)), \"\\n\")"
   ]
  }
 ],
 "metadata": {
  "kernelspec": {
   "display_name": "Python 3",
   "language": "python",
   "name": "python3"
  },
  "language_info": {
   "codemirror_mode": {
    "name": "ipython",
    "version": 3
   },
   "file_extension": ".py",
   "mimetype": "text/x-python",
   "name": "python",
   "nbconvert_exporter": "python",
   "pygments_lexer": "ipython3",
   "version": "3.8.5"
  }
 },
 "nbformat": 4,
 "nbformat_minor": 4
}
