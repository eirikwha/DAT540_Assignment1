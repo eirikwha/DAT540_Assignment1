{
 "cells": [
  {
   "cell_type": "markdown",
   "metadata": {},
   "source": [
    "# Exercise 1.3\n",
    "\n",
    "I treat all possible lines as 1D arrays, i.e. [1,1,1], and the 2D array as a collection of multiple 1D arrays.\n",
    "To check for number of consecutive numbers in each array, a for loop is iterating through each element and checking its value. If the value is correct, a counter is incremented each time a consecutive correct value occurs. If an uncorrect value occurs, the counter is reset to zero. \n",
    "\n",
    "#### For the vertical arrays/lines, i simply use numpy.transpose() to transpose the array, and run the same function as described above.\n",
    "\n",
    "#### For diagonals, a function is made to slice all forward and backward diagonal patterns into new arrays. Then the consecutive_vals() is used to check.\n",
    "\n",
    "This method will work for 2D ndarrays of any size and is not limited to n-by-n matrices"
   ]
  },
  {
   "cell_type": "code",
   "execution_count": 30,
   "metadata": {},
   "outputs": [],
   "source": [
    "import numpy as np\n",
    "\n",
    "def consecutive_vals(arr, num):\n",
    "    \"\"\"This function takes an array and checks each row \n",
    "    for consecutive occurences of a selected value num\"\"\"\n",
    "    \n",
    "    record = 0\n",
    "    counter = 0\n",
    "    for i in arr:\n",
    "        for j in i:\n",
    "            if j == num:\n",
    "                counter += 1\n",
    "                record = max(record,counter)\n",
    "            else:\n",
    "                counter = 0\n",
    "        counter = 0\n",
    "    return record\n",
    "\n",
    "def transf_all_diags(arr):\n",
    "    \"\"\"This function takes an array and converts all possible\n",
    "    diagonals (forward and backward) and converts them into a \n",
    "    list of respective arrays\"\"\"\n",
    "    \n",
    "    diags = [arr[::-1,:].diagonal(i) for i in range(-arr.shape[0]+1,arr.shape[1])] \n",
    "    diags.extend((a.diagonal(i) for i in range(a.shape[1]-1,-a.shape[0],-1)))\n",
    "    return diags"
   ]
  },
  {
   "cell_type": "markdown",
   "metadata": {},
   "source": [
    "#### This short snippet creates a 2D-array of 5x5 with random integers from 0 to 1, and finds the longest pattern of ones by using the functions above:"
   ]
  },
  {
   "cell_type": "code",
   "execution_count": 43,
   "metadata": {},
   "outputs": [
    {
     "name": "stdout",
     "output_type": "stream",
     "text": [
      "Test array: \n",
      "----------\n",
      " [[0 1 0 0 0]\n",
      " [1 1 1 0 1]\n",
      " [0 0 0 1 1]\n",
      " [1 0 0 0 1]\n",
      " [0 1 1 1 0]] \n",
      "----------\n",
      "Longest pattern of  1 -s:  4 \n",
      "\n"
     ]
    }
   ],
   "source": [
    "n = 1\n",
    "\n",
    "a = np.random.randint(2, size= (5,5))\n",
    "print(\"Test array: \\n----------\\n\", a, \"\\n----------\")\n",
    "\n",
    "diags = transf_all_diags(a)\n",
    "print(\"Longest pattern of \", n, \"-s: \" , max(consecutive_vals(diags,n),consecutive_vals(a,n),consecutive_vals(a.transpose(),n)), \"\\n\")"
   ]
  }
 ],
 "metadata": {
  "kernelspec": {
   "display_name": "Python 3",
   "language": "python",
   "name": "python3"
  },
  "language_info": {
   "codemirror_mode": {
    "name": "ipython",
    "version": 3
   },
   "file_extension": ".py",
   "mimetype": "text/x-python",
   "name": "python",
   "nbconvert_exporter": "python",
   "pygments_lexer": "ipython3",
   "version": "3.8.5"
  }
 },
 "nbformat": 4,
 "nbformat_minor": 4
}
