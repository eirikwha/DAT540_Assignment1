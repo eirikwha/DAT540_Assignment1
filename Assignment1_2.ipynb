{
 "cells": [
  {
   "cell_type": "markdown",
   "metadata": {},
   "source": [
    "# Exercise 1.2\n",
    "\n"
   ]
  },
  {
   "cell_type": "code",
   "execution_count": 4,
   "metadata": {},
   "outputs": [],
   "source": [
    "from string import ascii_letters\n",
    "\n",
    "def cipher(txt, k):\n",
    "    n = ''\n",
    "    for i in txt:\n",
    "        if (i in ascii_letters):\n",
    "            n = n+ascii_letters[(ascii_letters.index(i)+k)%len(ascii_letters)]\n",
    "        else:\n",
    "            n += i\n",
    "    return n\n",
    "\n",
    "def decipher(txt, k):\n",
    "    n = ''\n",
    "    for i in txt:\n",
    "        if (i in ascii_letters):\n",
    "            n = n+ascii_letters[(ascii_letters.index(i)-k)%len(ascii_letters)]\n",
    "        else:\n",
    "            n += i\n",
    "    return n"
   ]
  },
  {
   "cell_type": "code",
   "execution_count": 18,
   "metadata": {},
   "outputs": [
    {
     "name": "stdout",
     "output_type": "stream",
     "text": [
      "ZkB lv DL dwwudfwlqj vr pxfk dwwhqwlrq?\n",
      "DL lv wkh qhz hohfwulflwB. Lw zloo wudqvirup hyhuB lqgxvwuB dqg fuhdwh kxjh hfrqrplf ydoxh. \n",
      "WhfkqrorjB olnh vxshuylvhg ohduqlqj lv dxwrpdwlrq rq vwhurlgv. \n",
      "Lw lv yhuB jrrg dw dxwrpdwlqj wdvnv dqg zloo kdyh dq lpsdfw rq hyhuB vhfwru iurp khdowkfduh wr pdqxidfwxulqj, orjlvwlfv dqg uhwdlo.\n"
     ]
    }
   ],
   "source": [
    "#Cipher and write\n",
    "\n",
    "f = open('plain.txt','r').read()\n",
    "birthyear = 1993\n",
    "k = birthyear % 10\n",
    "\n",
    "newfile = open(\"cipher.txt\" ,'w').write(cipher(f,k))\n",
    "\n",
    "print(cipher(f,k))"
   ]
  },
  {
   "cell_type": "code",
   "execution_count": 19,
   "metadata": {},
   "outputs": [
    {
     "name": "stdout",
     "output_type": "stream",
     "text": [
      "Why is AI attracting so much attention?\n",
      "AI is the new electricity. It will transform every industry and create huge economic value. \n",
      "Technology like supervised learning is automation on steroids. \n",
      "It is very good at automating tasks and will have an impact on every sector from healthcare to manufacturing, logistics and retail.\n"
     ]
    }
   ],
   "source": [
    "#Decipher\n",
    "print(decipher(open(\"cipher.txt\",'r').read(),k))"
   ]
  }
 ],
 "metadata": {
  "kernelspec": {
   "display_name": "Python 3",
   "language": "python",
   "name": "python3"
  },
  "language_info": {
   "codemirror_mode": {
    "name": "ipython",
    "version": 3
   },
   "file_extension": ".py",
   "mimetype": "text/x-python",
   "name": "python",
   "nbconvert_exporter": "python",
   "pygments_lexer": "ipython3",
   "version": "3.8.5"
  }
 },
 "nbformat": 4,
 "nbformat_minor": 4
}
