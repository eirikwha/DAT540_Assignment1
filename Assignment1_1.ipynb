{
 "cells": [
  {
   "cell_type": "code",
   "execution_count": 22,
   "metadata": {},
   "outputs": [],
   "source": [
    "def RoPaSc(player_1_hand, player_2_hand):\n",
    "    \"\"\"This function handles the logic of a \n",
    "    classic game of rock/paper/scissors.\\n \n",
    "    NB! Input must be one of these: rock / paper / scissor\"\"\"\n",
    "    \n",
    "    if (player_1_hand == \"rock\" or player_1_hand == \"paper\" or \\\n",
    "        player_1_hand == \"scissor\") and (player_2_hand == \"rock\"\\\n",
    "        or player_2_hand == \"paper\" or player_2_hand == \"scissor\"): \n",
    "            \n",
    "        if player_1_hand == player_2_hand:\n",
    "            print(\"Tie! Try again.\")\n",
    "        elif player_1_hand == \"rock\":\n",
    "            if player_2_hand == \"paper\":\n",
    "                print(\"Player 2: wins\")\n",
    "            else:\n",
    "                print(\"Player 1: wins\")\n",
    "        elif player_1_hand == \"paper\":\n",
    "            if player_2_hand == \"scissor\":\n",
    "                print(\"Player 2: wins\")\n",
    "            else:\n",
    "                print(\"Player 1: wins\")\n",
    "        elif player_1_hand == \"scissor\":\n",
    "            if player_2_hand == \"rock\":\n",
    "                print(\"Player 2: wins\")\n",
    "            else:\n",
    "                print(\"Player 1: wins\")\n",
    "    else:\n",
    "        print (\"Wrong input.\\n\")\n",
    "        help(RoPaSc)"
   ]
  },
  {
   "cell_type": "code",
   "execution_count": 23,
   "metadata": {},
   "outputs": [
    {
     "name": "stdout",
     "output_type": "stream",
     "text": [
      "Player 1 hand: rocks\n",
      "Player 2 hand: s\n",
      "Wrong input.\n",
      "\n",
      "Help on function RoPaSc in module __main__:\n",
      "\n",
      "RoPaSc(player_1_hand, player_2_hand)\n",
      "    This function handles the logic of a \n",
      "    classic game of rock/paper/scissors.\n",
      "    \n",
      "    NB! Input must be one of these: rock / paper / scissor\n",
      "\n"
     ]
    }
   ],
   "source": [
    "a = input(\"Player 1 hand: \")\n",
    "b = input(\"Player 2 hand: \")\n",
    "RoPaSc(a,b)"
   ]
  }
 ],
 "metadata": {
  "kernelspec": {
   "display_name": "Python 3",
   "language": "python",
   "name": "python3"
  },
  "language_info": {
   "codemirror_mode": {
    "name": "ipython",
    "version": 3
   },
   "file_extension": ".py",
   "mimetype": "text/x-python",
   "name": "python",
   "nbconvert_exporter": "python",
   "pygments_lexer": "ipython3",
   "version": "3.8.5"
  }
 },
 "nbformat": 4,
 "nbformat_minor": 4
}
